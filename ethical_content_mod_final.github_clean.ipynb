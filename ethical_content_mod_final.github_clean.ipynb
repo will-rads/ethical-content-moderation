{
  "nbformat": 4,
  "nbformat_minor": 0,
  "metadata": {
    "colab": {
      "provenance": [],
      "gpuType": "T4"
    },
    "kernelspec": {
      "name": "python3",
      "display_name": "Python 3"
    },
    "language_info": {
      "name": "python"
    },
    "accelerator": "GPU"
  },
  "cells": [
    {
      "cell_type": "code",
      "source": [
        "# installing what we need for huggingface datasets and tools\n",
        "!pip install datasets transformers"
      ],
      "metadata": {
        "colab": {
          "base_uri": "https://localhost:8080/"
        },
        "id": "bVjkPapMmDsn",
        "outputId": "e8d6948d-9732-4984-b5ac-3ef394c74c4b"
      },
      "execution_count": null,
      "outputs": [
        {
          "output_type": "stream",
          "name": "stdout",
          "text": [
            "Collecting datasets\n",
            "  Downloading datasets-3.6.0-py3-none-any.whl.metadata (19 kB)\n",
            "Requirement already satisfied: transformers in /usr/local/lib/python3.11/dist-packages (4.51.3)\n",
            "Requirement already satisfied: filelock in /usr/local/lib/python3.11/dist-packages (from datasets) (3.18.0)\n",
            "Requirement already satisfied: numpy>=1.17 in /usr/local/lib/python3.11/dist-packages (from datasets) (2.0.2)\n",
            "Requirement already satisfied: pyarrow>=15.0.0 in /usr/local/lib/python3.11/dist-packages (from datasets) (18.1.0)\n",
            "Collecting dill<0.3.9,>=0.3.0 (from datasets)\n",
            "  Downloading dill-0.3.8-py3-none-any.whl.metadata (10 kB)\n",
            "Requirement already satisfied: pandas in /usr/local/lib/python3.11/dist-packages (from datasets) (2.2.2)\n",
            "Requirement already satisfied: requests>=2.32.2 in /usr/local/lib/python3.11/dist-packages (from datasets) (2.32.3)\n",
            "Requirement already satisfied: tqdm>=4.66.3 in /usr/local/lib/python3.11/dist-packages (from datasets) (4.67.1)\n",
            "Collecting xxhash (from datasets)\n",
            "  Downloading xxhash-3.5.0-cp311-cp311-manylinux_2_17_x86_64.manylinux2014_x86_64.whl.metadata (12 kB)\n",
            "Collecting multiprocess<0.70.17 (from datasets)\n",
            "  Downloading multiprocess-0.70.16-py311-none-any.whl.metadata (7.2 kB)\n",
            "Collecting fsspec<=2025.3.0,>=2023.1.0 (from fsspec[http]<=2025.3.0,>=2023.1.0->datasets)\n",
            "  Downloading fsspec-2025.3.0-py3-none-any.whl.metadata (11 kB)\n",
            "Requirement already satisfied: huggingface-hub>=0.24.0 in /usr/local/lib/python3.11/dist-packages (from datasets) (0.30.2)\n",
            "Requirement already satisfied: packaging in /usr/local/lib/python3.11/dist-packages (from datasets) (24.2)\n",
            "Requirement already satisfied: pyyaml>=5.1 in /usr/local/lib/python3.11/dist-packages (from datasets) (6.0.2)\n",
            "Requirement already satisfied: regex!=2019.12.17 in /usr/local/lib/python3.11/dist-packages (from transformers) (2024.11.6)\n",
            "Requirement already satisfied: tokenizers<0.22,>=0.21 in /usr/local/lib/python3.11/dist-packages (from transformers) (0.21.1)\n",
            "Requirement already satisfied: safetensors>=0.4.3 in /usr/local/lib/python3.11/dist-packages (from transformers) (0.5.3)\n",
            "Requirement already satisfied: aiohttp!=4.0.0a0,!=4.0.0a1 in /usr/local/lib/python3.11/dist-packages (from fsspec[http]<=2025.3.0,>=2023.1.0->datasets) (3.11.15)\n",
            "Requirement already satisfied: typing-extensions>=3.7.4.3 in /usr/local/lib/python3.11/dist-packages (from huggingface-hub>=0.24.0->datasets) (4.13.2)\n",
            "Requirement already satisfied: charset-normalizer<4,>=2 in /usr/local/lib/python3.11/dist-packages (from requests>=2.32.2->datasets) (3.4.1)\n",
            "Requirement already satisfied: idna<4,>=2.5 in /usr/local/lib/python3.11/dist-packages (from requests>=2.32.2->datasets) (3.10)\n",
            "Requirement already satisfied: urllib3<3,>=1.21.1 in /usr/local/lib/python3.11/dist-packages (from requests>=2.32.2->datasets) (2.4.0)\n",
            "Requirement already satisfied: certifi>=2017.4.17 in /usr/local/lib/python3.11/dist-packages (from requests>=2.32.2->datasets) (2025.4.26)\n",
            "Requirement already satisfied: python-dateutil>=2.8.2 in /usr/local/lib/python3.11/dist-packages (from pandas->datasets) (2.9.0.post0)\n",
            "Requirement already satisfied: pytz>=2020.1 in /usr/local/lib/python3.11/dist-packages (from pandas->datasets) (2025.2)\n",
            "Requirement already satisfied: tzdata>=2022.7 in /usr/local/lib/python3.11/dist-packages (from pandas->datasets) (2025.2)\n",
            "Requirement already satisfied: aiohappyeyeballs>=2.3.0 in /usr/local/lib/python3.11/dist-packages (from aiohttp!=4.0.0a0,!=4.0.0a1->fsspec[http]<=2025.3.0,>=2023.1.0->datasets) (2.6.1)\n",
            "Requirement already satisfied: aiosignal>=1.1.2 in /usr/local/lib/python3.11/dist-packages (from aiohttp!=4.0.0a0,!=4.0.0a1->fsspec[http]<=2025.3.0,>=2023.1.0->datasets) (1.3.2)\n",
            "Requirement already satisfied: attrs>=17.3.0 in /usr/local/lib/python3.11/dist-packages (from aiohttp!=4.0.0a0,!=4.0.0a1->fsspec[http]<=2025.3.0,>=2023.1.0->datasets) (25.3.0)\n",
            "Requirement already satisfied: frozenlist>=1.1.1 in /usr/local/lib/python3.11/dist-packages (from aiohttp!=4.0.0a0,!=4.0.0a1->fsspec[http]<=2025.3.0,>=2023.1.0->datasets) (1.6.0)\n",
            "Requirement already satisfied: multidict<7.0,>=4.5 in /usr/local/lib/python3.11/dist-packages (from aiohttp!=4.0.0a0,!=4.0.0a1->fsspec[http]<=2025.3.0,>=2023.1.0->datasets) (6.4.3)\n",
            "Requirement already satisfied: propcache>=0.2.0 in /usr/local/lib/python3.11/dist-packages (from aiohttp!=4.0.0a0,!=4.0.0a1->fsspec[http]<=2025.3.0,>=2023.1.0->datasets) (0.3.1)\n",
            "Requirement already satisfied: yarl<2.0,>=1.17.0 in /usr/local/lib/python3.11/dist-packages (from aiohttp!=4.0.0a0,!=4.0.0a1->fsspec[http]<=2025.3.0,>=2023.1.0->datasets) (1.20.0)\n",
            "Requirement already satisfied: six>=1.5 in /usr/local/lib/python3.11/dist-packages (from python-dateutil>=2.8.2->pandas->datasets) (1.17.0)\n",
            "Downloading datasets-3.6.0-py3-none-any.whl (491 kB)\n",
            "\u001b[2K   \u001b[90m━━━━━━━━━━━━━━━━━━━━━━━━━━━━━━━━━━━━━━━━\u001b[0m \u001b[32m491.5/491.5 kB\u001b[0m \u001b[31m15.8 MB/s\u001b[0m eta \u001b[36m0:00:00\u001b[0m\n",
            "\u001b[?25hDownloading dill-0.3.8-py3-none-any.whl (116 kB)\n",
            "\u001b[2K   \u001b[90m━━━━━━━━━━━━━━━━━━━━━━━━━━━━━━━━━━━━━━━━\u001b[0m \u001b[32m116.3/116.3 kB\u001b[0m \u001b[31m11.7 MB/s\u001b[0m eta \u001b[36m0:00:00\u001b[0m\n",
            "\u001b[?25hDownloading fsspec-2025.3.0-py3-none-any.whl (193 kB)\n",
            "\u001b[2K   \u001b[90m━━━━━━━━━━━━━━━━━━━━━━━━━━━━━━━━━━━━━━━━\u001b[0m \u001b[32m193.6/193.6 kB\u001b[0m \u001b[31m20.5 MB/s\u001b[0m eta \u001b[36m0:00:00\u001b[0m\n",
            "\u001b[?25hDownloading multiprocess-0.70.16-py311-none-any.whl (143 kB)\n",
            "\u001b[2K   \u001b[90m━━━━━━━━━━━━━━━━━━━━━━━━━━━━━━━━━━━━━━━━\u001b[0m \u001b[32m143.5/143.5 kB\u001b[0m \u001b[31m15.7 MB/s\u001b[0m eta \u001b[36m0:00:00\u001b[0m\n",
            "\u001b[?25hDownloading xxhash-3.5.0-cp311-cp311-manylinux_2_17_x86_64.manylinux2014_x86_64.whl (194 kB)\n",
            "\u001b[2K   \u001b[90m━━━━━━━━━━━━━━━━━━━━━━━━━━━━━━━━━━━━━━━━\u001b[0m \u001b[32m194.8/194.8 kB\u001b[0m \u001b[31m21.2 MB/s\u001b[0m eta \u001b[36m0:00:00\u001b[0m\n",
            "\u001b[?25hInstalling collected packages: xxhash, fsspec, dill, multiprocess, datasets\n",
            "  Attempting uninstall: fsspec\n",
            "    Found existing installation: fsspec 2025.3.2\n",
            "    Uninstalling fsspec-2025.3.2:\n",
            "      Successfully uninstalled fsspec-2025.3.2\n",
            "\u001b[31mERROR: pip's dependency resolver does not currently take into account all the packages that are installed. This behaviour is the source of the following dependency conflicts.\n",
            "gcsfs 2025.3.2 requires fsspec==2025.3.2, but you have fsspec 2025.3.0 which is incompatible.\n",
            "torch 2.6.0+cu124 requires nvidia-cublas-cu12==12.4.5.8; platform_system == \"Linux\" and platform_machine == \"x86_64\", but you have nvidia-cublas-cu12 12.5.3.2 which is incompatible.\n",
            "torch 2.6.0+cu124 requires nvidia-cuda-cupti-cu12==12.4.127; platform_system == \"Linux\" and platform_machine == \"x86_64\", but you have nvidia-cuda-cupti-cu12 12.5.82 which is incompatible.\n",
            "torch 2.6.0+cu124 requires nvidia-cuda-nvrtc-cu12==12.4.127; platform_system == \"Linux\" and platform_machine == \"x86_64\", but you have nvidia-cuda-nvrtc-cu12 12.5.82 which is incompatible.\n",
            "torch 2.6.0+cu124 requires nvidia-cuda-runtime-cu12==12.4.127; platform_system == \"Linux\" and platform_machine == \"x86_64\", but you have nvidia-cuda-runtime-cu12 12.5.82 which is incompatible.\n",
            "torch 2.6.0+cu124 requires nvidia-cudnn-cu12==9.1.0.70; platform_system == \"Linux\" and platform_machine == \"x86_64\", but you have nvidia-cudnn-cu12 9.3.0.75 which is incompatible.\n",
            "torch 2.6.0+cu124 requires nvidia-cufft-cu12==11.2.1.3; platform_system == \"Linux\" and platform_machine == \"x86_64\", but you have nvidia-cufft-cu12 11.2.3.61 which is incompatible.\n",
            "torch 2.6.0+cu124 requires nvidia-curand-cu12==10.3.5.147; platform_system == \"Linux\" and platform_machine == \"x86_64\", but you have nvidia-curand-cu12 10.3.6.82 which is incompatible.\n",
            "torch 2.6.0+cu124 requires nvidia-cusolver-cu12==11.6.1.9; platform_system == \"Linux\" and platform_machine == \"x86_64\", but you have nvidia-cusolver-cu12 11.6.3.83 which is incompatible.\n",
            "torch 2.6.0+cu124 requires nvidia-cusparse-cu12==12.3.1.170; platform_system == \"Linux\" and platform_machine == \"x86_64\", but you have nvidia-cusparse-cu12 12.5.1.3 which is incompatible.\n",
            "torch 2.6.0+cu124 requires nvidia-nvjitlink-cu12==12.4.127; platform_system == \"Linux\" and platform_machine == \"x86_64\", but you have nvidia-nvjitlink-cu12 12.5.82 which is incompatible.\u001b[0m\u001b[31m\n",
            "\u001b[0mSuccessfully installed datasets-3.6.0 dill-0.3.8 fsspec-2025.3.0 multiprocess-0.70.16 xxhash-3.5.0\n"
          ]
        }
      ]
    },
    {
      "cell_type": "markdown",
      "source": [
        "***This first step is like going to the store to get our ingredients. We're installing the datasets library to easily download our text data and transformers to use efficient pre-trained models like DistilBERT.***"
      ],
      "metadata": {
        "id": "nXnCq4CIQhGT"
      }
    },
    {
      "cell_type": "code",
      "execution_count": null,
      "metadata": {
        "id": "QjJa6G1ZiLH7",
        "colab": {
          "base_uri": "https://localhost:8080/",
          "height": 237,
          "referenced_widgets": [
            "81f666292f674f01b3bc5c6d4e1cb0e8",
            "0bec1783dab54587a54c70fd9f0bfb37",
            "052bb49d0fba40fdacfdf46a169051e9",
            "04fbe321ed4d43d09c249468749ade6c",
            "6f6eb17b75074ada9b4da867d7d4a642",
            "da3b86f8bc4d45a2ad9aac1e7524c600",
            "ee2d4f966c5e4364a05e742eb4f9ae5a",
            "51278e324788457cb8c532d7a06ed8b1",
            "6008db47cf674e96a752ba3d790ae62c",
            "2623fca53abd459bad9f20318ece5efb",
            "4add920b1e744043b0e5a7d569dc7e16",
            "1e6756258f0540f7933cd4281ec0aed7",
            "7df9b1196c93427c86acb643ba1fb5c5",
            "ecdceca6e4194921bdf435175cbe6d28",
            "e413550804d24e6bb8c5e64ad714c606",
            "d761408af2fd4a7d9830a19769c415c8",
            "06fdcf8a137f488296db986272692024",
            "644d3395f1824de6b338c7aa9b6f1096",
            "57ff5f18f5654bf19cdd2dc7f9972393",
            "117671a2806b4732a6da198182ec7439",
            "569498a5ead64dd79daed8b8521014e9",
            "814a4d9041d84fb3b8f4777774067d70",
            "d0a57b93b3934c50984e6033c8cdfaf8",
            "69506a4eebbc47f6b20a97c85003078a",
            "6d94581359004f0a980089b0b9d5b1f0",
            "9bce986367384ba6bf7d6bd4b8384878",
            "74e108c1dec8493b8f847e1cb6bf30f6",
            "1a3d2b27cb1c4af5bc7ebb26a4f901a5",
            "83bb563ae37c487ab2814e81f8336c9f",
            "785b2b29ee5e4b12aadc072721a7cc40",
            "7aa7a38eaf1647d187f94fbed35d3902",
            "e36017351f0a43bba612847d5e5d2a2e",
            "54d9e983f8c345ad93ec0e3e2b396ba0"
          ]
        },
        "outputId": "bff1a9fc-d634-4ea7-c0b0-1f4d275ad2b8"
      },
      "outputs": [
        {
          "output_type": "stream",
          "name": "stderr",
          "text": [
            "/usr/local/lib/python3.11/dist-packages/huggingface_hub/utils/_auth.py:94: UserWarning: \n",
            "The secret `HF_TOKEN` does not exist in your Colab secrets.\n",
            "To authenticate with the Hugging Face Hub, create a token in your settings tab (https://huggingface.co/settings/tokens), set it as secret in your Google Colab and restart your session.\n",
            "You will be able to reuse this secret in all of your notebooks.\n",
            "Please note that authentication is recommended but still optional to access public models or datasets.\n",
            "  warnings.warn(\n"
          ]
        }
      ],
      "source": [
        "# pulling in the hf dataset tool\n",
        "from datasets import load_dataset\n",
        "\n",
        "dataset = load_dataset(\"tdavidson/hate_speech_offensive\")  # 24k examples, label 0/1/2 = hate/offensive/neither"
      ]
    },
    {
      "cell_type": "markdown",
      "source": [
        "In this step, we loaded the “tdavidson/hate_speech_offensive” dataset by calling load_dataset(...). The line dataset = load_dataset(\"tdavidson/hate_speech_offensive\") fetches and caches the tweets and their label field, giving us ready to use data for classification."
      ],
      "metadata": {
        "id": "JEmnEMjsoLsW"
      }
    },
    {
      "cell_type": "code",
      "source": [
        "print(dataset['train'][0])  # tweet text + label\n",
        "\n",
        "from sklearn.model_selection import train_test_split\n",
        "import numpy as np\n",
        "from sklearn.utils import class_weight\n",
        "\n",
        "# extract texts and labels from the HF dataset\n",
        "texts = dataset['train']['tweet']      # list of all tweets\n",
        "labels = dataset['train']['class']     # list of labels (0/1/2)\n",
        "\n",
        "\n",
        "train_texts, val_texts, train_labels, val_labels = train_test_split(\n",
        "    texts,\n",
        "    labels,\n",
        "    test_size=0.2,\n",
        "    random_state=42,\n",
        "    stratify=labels       # preserves label distribution apparently\n",
        ")\n",
        "\n",
        "\n",
        "unique_classes = np.unique(train_labels)\n",
        "weights = class_weight.compute_class_weight(\n",
        "    class_weight='balanced', # 'balanced' mode automatically adjusts weights inversely proportional to class frequencies\n",
        "    classes=unique_classes,\n",
        "    y=train_labels\n",
        ")\n",
        "# Create a dictionary mapping class index to its weight\n",
        "class_weights_dict = dict(zip(unique_classes, weights))\n",
        "\n",
        "print(f\"\\nCalculated class weights: {class_weights_dict}\")\n",
        "print(f\"Dataset has classes: {dataset['train'].features['class'].names}\")\n",
        "print(f\"Our label map will be: 0: Hate Speech, 1: Offensive Language, 2: Neither (based on dataset features)\")"
      ],
      "metadata": {
        "colab": {
          "base_uri": "https://localhost:8080/"
        },
        "id": "NBgnYC8-oM55",
        "outputId": "b2a26231-eedb-421d-8c0b-e8527a9b7b8f"
      },
      "execution_count": null,
      "outputs": [
        {
          "output_type": "stream",
          "name": "stdout",
          "text": [
            "{'count': 3, 'hate_speech_count': 0, 'offensive_language_count': 0, 'neither_count': 3, 'class': 2, 'tweet': \"!!! RT @mayasolovely: As a woman you shouldn't complain about cleaning up your house. &amp; as a man you should always take the trash out...\"}\n",
            "\n",
            "Calculated class weights: {np.int64(0): np.float64(5.776806526806527), np.int64(1): np.float64(0.4304759423310752), np.int64(2): np.float64(1.9845845845845846)}\n",
            "Dataset has classes: ['hate speech', 'offensive language', 'neither']\n",
            "Our label map will be: 0: Hate Speech, 1: Offensive Language, 2: Neither (based on dataset features)\n"
          ]
        }
      ]
    },
    {
      "cell_type": "markdown",
      "source": [
        "***We're splitting our data into a training set (for the model to learn from) and a validation set (to check how well it's learning). Crucially, we've added code to calculate class_weights. This helps our model pay more attention to the \"hate speech\" class, which is less common in the data, so it doesn't get ignored.***"
      ],
      "metadata": {
        "id": "59akFJI9pTl9"
      }
    },
    {
      "cell_type": "code",
      "source": [
        "# bring in the tokenizer for distilbert\n",
        "from transformers import DistilBertTokenizerFast  # hf tokenizer tool\n",
        "\n",
        "# init tokenizer from pretrained weights\n",
        "tokenizer = DistilBertTokenizerFast.from_pretrained(\"distilbert-base-uncased\")  # quick, lightweight and still performs as well as bert mostly\n",
        "\n",
        "# tokenize our splits with uniform length\n",
        "train_encodings = tokenizer(\n",
        "    train_texts,\n",
        "    truncation=True,            # chops longer tweets\n",
        "    padding='max_length',       # pads shorter ones to max_length\n",
        "    max_length=128              # cap sequences at 128 tokens\n",
        ")\n",
        "val_encodings = tokenizer(\n",
        "    val_texts,\n",
        "    truncation=True,\n",
        "    padding='max_length',\n",
        "    max_length=128\n",
        ")"
      ],
      "metadata": {
        "id": "x-1H-T_XpUbQ",
        "colab": {
          "base_uri": "https://localhost:8080/",
          "height": 145,
          "referenced_widgets": [
            "c2989142876c4918859e9b25e29cc905",
            "faae47627a73437b9c8ba8349a1d6d69",
            "63a88ceeb8c5412bb6d047f8ab0675e5",
            "1ca8dcf9a0804aa0899aa91aba5062c9",
            "2a38360217f6439a8085587d969652b4",
            "6d79a166973640cc83d40eae381ee398",
            "35c40a61f93f4936a8a1783b05010549",
            "721fcf2fe689445da777d9dcea8b6e95",
            "d18cd97dd2c147d5afc38cda553e70a8",
            "a049a34c6fa84f92a47ec86b365366d4",
            "6f11efa981c24f53a668bdda82cb5a22",
            "44c5dc0884c64a588c139eccf317a874",
            "924c89b316ee4e63b9f10bba8c5d4d50",
            "6c44fe3a86b94a4383a00a1a3f9f348f",
            "4c7602cc00a74c3a82e5ac53b6258e52",
            "e1791be264fb4723a719d54c4e867cbe",
            "a7f61f0351e1472ea4c0be4b18142743",
            "0d6be56f04ce47c3a358267efa10714d",
            "de482c0b3f9442eda46756907dbdba9d",
            "86e1970dd1f444f6bd064b2fb5390424",
            "a6f28b6b7f914d748ecc0822b7664c17",
            "d433474662ef4258aa2a6b1496cfd40f",
            "17c3c0548436453fa8179cae27abd076",
            "a28c94d347e4411da8992fbded72c513",
            "24a42ed28f724134bc5c0db9ef98bfdf",
            "475f7cf44cc040e2b9b581e376bec24c",
            "a535dde55f404954a8baaa815558ca46",
            "abc377669de3417abcda1fa707925f74",
            "e5c9e9df75be4eb58df354f45d04e3dd",
            "22fcbd4780f64659845dd42155b05828",
            "7f15c973539542c89617f863977c7839",
            "6fe365028d1e43f7a67209e780119e76",
            "46b7e550f03b4e1d9391c99e5d82c7ee",
            "7f8c826271f64bbe8c8fc2b4cf0a49cf",
            "b8b8a7974a5147f094dc62263c78b68a",
            "5b4db546045a4946a0d1f6d91f11ef32",
            "f01c787b88af430884758bd5a8930e2e",
            "fc9b6f50fb764800b348b12f4aa5d77d",
            "ca472d74cbdc48608de21ed198ca7daf",
            "341603bcde404542beac64b4bee95688",
            "cc423084c9d74d719aaf956170b73497",
            "a2c5d7438c2e4321bd57dab217c1cd3d",
            "5b53f1ba095646ccb51bedd9211f9302",
            "873f69a17a5b4fc6b9734c4b034ca772"
          ]
        },
        "outputId": "37e44768-cb6a-4a0f-9eb7-ffe902d6ff4a"
      },
      "execution_count": null,
      "outputs": []
    },
    {
      "cell_type": "markdown",
      "source": [
        "***We need to turn our text into numbers so we use tokenizer for this purpose. It converts tweets into sequences of numbers (tokens) and makes sure they're all the same length (128 here).***"
      ],
      "metadata": {
        "id": "5CDW-iIFSKhS"
      }
    },
    {
      "cell_type": "code",
      "source": [
        "import tensorflow as tf\n",
        "\n",
        "# wrap encodings & labels into a tf.data.Dataset\n",
        "train_dataset = tf.data.Dataset.from_tensor_slices((dict(train_encodings), train_labels)) # inputs + targets\n",
        "val_dataset = tf.data.Dataset.from_tensor_slices((dict(val_encodings), val_labels))\n",
        "\n",
        "train_dataset = train_dataset.shuffle(1000).batch(16)  # shuffle and batch the training set, just batch the validation set\n",
        "val_dataset = val_dataset.batch(16)"
      ],
      "metadata": {
        "id": "0erFnpairCUS"
      },
      "execution_count": null,
      "outputs": []
    },
    {
      "cell_type": "markdown",
      "source": [
        "***Here we converted our tokenized inputs and labels into tf.data.Dataset objects and applied shuffle(1000) with batch(16) for the training split, ensuring randomized batches, and simply batched the validation split for consistent evaluation.***"
      ],
      "metadata": {
        "id": "S0g2EzULq8UX"
      }
    },
    {
      "cell_type": "code",
      "source": [
        "# bring in hf and tf\n",
        "from transformers import TFDistilBertModel  # pretrained transformer\n",
        "from tensorflow.keras import Model          # keras model assemble\n",
        "from tensorflow.keras.layers import (\n",
        "    Input,                                 # define inputs\n",
        "    Lambda,                                # wrap for hf compatibility\n",
        "    Dense,                                 # fully connected\n",
        "    Dropout,                               # random unit drop\n",
        "    BatchNormalization,                    # normalize activations\n",
        "    LeakyReLU                             # Leaky ReLU activation\n",
        ")\n",
        "import tensorflow as tf                     # tf core\n",
        "from tensorflow.keras.regularizers import l2\n",
        "\n",
        "# load & freeze the pretrained base\n",
        "base = TFDistilBertModel.from_pretrained(\"distilbert-base-uncased\")\n",
        "base.trainable = False  # keep weights locked, we only train our custom head\n",
        "\n",
        "# figure out hidden size for our pooled output\n",
        "hidden_size = base.config.hidden_size  # usually 768\n",
        "\n",
        "# define our two inputs\n",
        "input_ids = Input(shape=(128,), dtype=tf.int32, name=\"input_ids\") # 1D array of length 128\n",
        "attention_mask = Input(shape=(128,), dtype=tf.int32, name=\"attention_mask\") #same here\n",
        "\n",
        "# wrap hf model call so keras knows the output shape\n",
        "# We take the embedding of the [CLS] token, which represents the whole sentence\n",
        "pooled = Lambda(\n",
        "    lambda ids_mask_tuple: base(input_ids=ids_mask_tuple[0], attention_mask=ids_mask_tuple[1])\n",
        "                       .last_hidden_state[:, 0], # Use [CLS] token embedding\n",
        "    output_shape=(hidden_size,)\n",
        ")([input_ids, attention_mask]) # Pass inputs as a tuple\n",
        "\n",
        "\n",
        "# layer 1- a bit wider to capture more features\n",
        "x = Dense(256, kernel_initializer='he_normal', kernel_regularizer=l2(1e-4))(pooled)\n",
        "x = LeakyReLU(alpha=0.1)(x)\n",
        "x = BatchNormalization()(x)\n",
        "x = Dropout(0.25)(x)\n",
        "\n",
        "# layer 2- another layer for more complex patterns\n",
        "x = Dense(128, kernel_initializer='he_normal', kernel_regularizer=l2(1e-4))(x)\n",
        "x = LeakyReLU(alpha=0.1)(x)\n",
        "x = BatchNormalization()(x)\n",
        "x = Dropout(0.25)(x)\n",
        "\n",
        "# layer 3- a smaller layer before the final decision, using 'swish' activation\n",
        "x = Dense(32, activation=\"swish\", kernel_initializer='he_normal', kernel_regularizer=l2(1e-4))(x)\n",
        "x = BatchNormalization()(x)\n",
        "x = Dropout(0.2)(x)\n",
        "\n",
        "predictions = Dense(3, activation=\"softmax\")(x) # output layer is 3 units for 3 classes (hate, offensive, neither), softmax for probabilities\n",
        "\n",
        "\n",
        "model = Model(inputs=[input_ids, attention_mask], outputs=predictions)\n",
        "model.compile(\n",
        "    optimizer=tf.keras.optimizers.Adam(learning_rate=3e-5),\n",
        "    loss=\"sparse_categorical_crossentropy\", # Good for multi-class integer labels (0/1/2)\n",
        "    metrics=[\"accuracy\"] # we will look at more detailed metrics after training\n",
        ")\n",
        "\n",
        "model.summary()"
      ],
      "metadata": {
        "colab": {
          "base_uri": "https://localhost:8080/",
          "height": 844
        },
        "id": "VRK7KoxHzA_o",
        "outputId": "5a205122-c29e-4e9b-bc76-eff111320ccf"
      },
      "execution_count": null,
      "outputs": [
        {
          "output_type": "stream",
          "name": "stderr",
          "text": [
            "Some weights of the PyTorch model were not used when initializing the TF 2.0 model TFDistilBertModel: ['vocab_transform.bias', 'vocab_layer_norm.weight', 'vocab_layer_norm.bias', 'vocab_projector.bias', 'vocab_transform.weight']\n",
            "- This IS expected if you are initializing TFDistilBertModel from a PyTorch model trained on another task or with another architecture (e.g. initializing a TFBertForSequenceClassification model from a BertForPreTraining model).\n",
            "- This IS NOT expected if you are initializing TFDistilBertModel from a PyTorch model that you expect to be exactly identical (e.g. initializing a TFBertForSequenceClassification model from a BertForSequenceClassification model).\n",
            "All the weights of TFDistilBertModel were initialized from the PyTorch model.\n",
            "If your task is similar to the task the model of the checkpoint was trained on, you can already use TFDistilBertModel for predictions without further training.\n"
          ]
        },
        {
          "output_type": "display_data",
          "data": {
            "text/plain": [
              "\u001b[1mModel: \"functional_1\"\u001b[0m\n"
            ],
            "text/html": [
              "<pre style=\"white-space:pre;overflow-x:auto;line-height:normal;font-family:Menlo,'DejaVu Sans Mono',consolas,'Courier New',monospace\"><span style=\"font-weight: bold\">Model: \"functional_1\"</span>\n",
              "</pre>\n"
            ]
          },
          "metadata": {}
        },
        {
          "output_type": "display_data",
          "data": {
            "text/plain": [
              "┏━━━━━━━━━━━━━━━━━━━━━┳━━━━━━━━━━━━━━━━━━━┳━━━━━━━━━━━━┳━━━━━━━━━━━━━━━━━━━┓\n",
              "┃\u001b[1m \u001b[0m\u001b[1mLayer (type)       \u001b[0m\u001b[1m \u001b[0m┃\u001b[1m \u001b[0m\u001b[1mOutput Shape     \u001b[0m\u001b[1m \u001b[0m┃\u001b[1m \u001b[0m\u001b[1m   Param #\u001b[0m\u001b[1m \u001b[0m┃\u001b[1m \u001b[0m\u001b[1mConnected to     \u001b[0m\u001b[1m \u001b[0m┃\n",
              "┡━━━━━━━━━━━━━━━━━━━━━╇━━━━━━━━━━━━━━━━━━━╇━━━━━━━━━━━━╇━━━━━━━━━━━━━━━━━━━┩\n",
              "│ input_ids           │ (\u001b[38;5;45mNone\u001b[0m, \u001b[38;5;34m128\u001b[0m)       │          \u001b[38;5;34m0\u001b[0m │ -                 │\n",
              "│ (\u001b[38;5;33mInputLayer\u001b[0m)        │                   │            │                   │\n",
              "├─────────────────────┼───────────────────┼────────────┼───────────────────┤\n",
              "│ attention_mask      │ (\u001b[38;5;45mNone\u001b[0m, \u001b[38;5;34m128\u001b[0m)       │          \u001b[38;5;34m0\u001b[0m │ -                 │\n",
              "│ (\u001b[38;5;33mInputLayer\u001b[0m)        │                   │            │                   │\n",
              "├─────────────────────┼───────────────────┼────────────┼───────────────────┤\n",
              "│ lambda_1 (\u001b[38;5;33mLambda\u001b[0m)   │ (\u001b[38;5;45mNone\u001b[0m, \u001b[38;5;34m768\u001b[0m)       │          \u001b[38;5;34m0\u001b[0m │ input_ids[\u001b[38;5;34m0\u001b[0m][\u001b[38;5;34m0\u001b[0m],  │\n",
              "│                     │                   │            │ attention_mask[\u001b[38;5;34m0\u001b[0m… │\n",
              "├─────────────────────┼───────────────────┼────────────┼───────────────────┤\n",
              "│ dense_4 (\u001b[38;5;33mDense\u001b[0m)     │ (\u001b[38;5;45mNone\u001b[0m, \u001b[38;5;34m256\u001b[0m)       │    \u001b[38;5;34m196,864\u001b[0m │ lambda_1[\u001b[38;5;34m0\u001b[0m][\u001b[38;5;34m0\u001b[0m]    │\n",
              "├─────────────────────┼───────────────────┼────────────┼───────────────────┤\n",
              "│ leaky_re_lu_2       │ (\u001b[38;5;45mNone\u001b[0m, \u001b[38;5;34m256\u001b[0m)       │          \u001b[38;5;34m0\u001b[0m │ dense_4[\u001b[38;5;34m0\u001b[0m][\u001b[38;5;34m0\u001b[0m]     │\n",
              "│ (\u001b[38;5;33mLeakyReLU\u001b[0m)         │                   │            │                   │\n",
              "├─────────────────────┼───────────────────┼────────────┼───────────────────┤\n",
              "│ batch_normalizatio… │ (\u001b[38;5;45mNone\u001b[0m, \u001b[38;5;34m256\u001b[0m)       │      \u001b[38;5;34m1,024\u001b[0m │ leaky_re_lu_2[\u001b[38;5;34m0\u001b[0m]… │\n",
              "│ (\u001b[38;5;33mBatchNormalizatio…\u001b[0m │                   │            │                   │\n",
              "├─────────────────────┼───────────────────┼────────────┼───────────────────┤\n",
              "│ dropout_3 (\u001b[38;5;33mDropout\u001b[0m) │ (\u001b[38;5;45mNone\u001b[0m, \u001b[38;5;34m256\u001b[0m)       │          \u001b[38;5;34m0\u001b[0m │ batch_normalizat… │\n",
              "├─────────────────────┼───────────────────┼────────────┼───────────────────┤\n",
              "│ dense_5 (\u001b[38;5;33mDense\u001b[0m)     │ (\u001b[38;5;45mNone\u001b[0m, \u001b[38;5;34m128\u001b[0m)       │     \u001b[38;5;34m32,896\u001b[0m │ dropout_3[\u001b[38;5;34m0\u001b[0m][\u001b[38;5;34m0\u001b[0m]   │\n",
              "├─────────────────────┼───────────────────┼────────────┼───────────────────┤\n",
              "│ leaky_re_lu_3       │ (\u001b[38;5;45mNone\u001b[0m, \u001b[38;5;34m128\u001b[0m)       │          \u001b[38;5;34m0\u001b[0m │ dense_5[\u001b[38;5;34m0\u001b[0m][\u001b[38;5;34m0\u001b[0m]     │\n",
              "│ (\u001b[38;5;33mLeakyReLU\u001b[0m)         │                   │            │                   │\n",
              "├─────────────────────┼───────────────────┼────────────┼───────────────────┤\n",
              "│ batch_normalizatio… │ (\u001b[38;5;45mNone\u001b[0m, \u001b[38;5;34m128\u001b[0m)       │        \u001b[38;5;34m512\u001b[0m │ leaky_re_lu_3[\u001b[38;5;34m0\u001b[0m]… │\n",
              "│ (\u001b[38;5;33mBatchNormalizatio…\u001b[0m │                   │            │                   │\n",
              "├─────────────────────┼───────────────────┼────────────┼───────────────────┤\n",
              "│ dropout_4 (\u001b[38;5;33mDropout\u001b[0m) │ (\u001b[38;5;45mNone\u001b[0m, \u001b[38;5;34m128\u001b[0m)       │          \u001b[38;5;34m0\u001b[0m │ batch_normalizat… │\n",
              "├─────────────────────┼───────────────────┼────────────┼───────────────────┤\n",
              "│ dense_6 (\u001b[38;5;33mDense\u001b[0m)     │ (\u001b[38;5;45mNone\u001b[0m, \u001b[38;5;34m32\u001b[0m)        │      \u001b[38;5;34m4,128\u001b[0m │ dropout_4[\u001b[38;5;34m0\u001b[0m][\u001b[38;5;34m0\u001b[0m]   │\n",
              "├─────────────────────┼───────────────────┼────────────┼───────────────────┤\n",
              "│ batch_normalizatio… │ (\u001b[38;5;45mNone\u001b[0m, \u001b[38;5;34m32\u001b[0m)        │        \u001b[38;5;34m128\u001b[0m │ dense_6[\u001b[38;5;34m0\u001b[0m][\u001b[38;5;34m0\u001b[0m]     │\n",
              "│ (\u001b[38;5;33mBatchNormalizatio…\u001b[0m │                   │            │                   │\n",
              "├─────────────────────┼───────────────────┼────────────┼───────────────────┤\n",
              "│ dropout_5 (\u001b[38;5;33mDropout\u001b[0m) │ (\u001b[38;5;45mNone\u001b[0m, \u001b[38;5;34m32\u001b[0m)        │          \u001b[38;5;34m0\u001b[0m │ batch_normalizat… │\n",
              "├─────────────────────┼───────────────────┼────────────┼───────────────────┤\n",
              "│ dense_7 (\u001b[38;5;33mDense\u001b[0m)     │ (\u001b[38;5;45mNone\u001b[0m, \u001b[38;5;34m3\u001b[0m)         │         \u001b[38;5;34m99\u001b[0m │ dropout_5[\u001b[38;5;34m0\u001b[0m][\u001b[38;5;34m0\u001b[0m]   │\n",
              "└─────────────────────┴───────────────────┴────────────┴───────────────────┘\n"
            ],
            "text/html": [
              "<pre style=\"white-space:pre;overflow-x:auto;line-height:normal;font-family:Menlo,'DejaVu Sans Mono',consolas,'Courier New',monospace\">┏━━━━━━━━━━━━━━━━━━━━━┳━━━━━━━━━━━━━━━━━━━┳━━━━━━━━━━━━┳━━━━━━━━━━━━━━━━━━━┓\n",
              "┃<span style=\"font-weight: bold\"> Layer (type)        </span>┃<span style=\"font-weight: bold\"> Output Shape      </span>┃<span style=\"font-weight: bold\">    Param # </span>┃<span style=\"font-weight: bold\"> Connected to      </span>┃\n",
              "┡━━━━━━━━━━━━━━━━━━━━━╇━━━━━━━━━━━━━━━━━━━╇━━━━━━━━━━━━╇━━━━━━━━━━━━━━━━━━━┩\n",
              "│ input_ids           │ (<span style=\"color: #00d7ff; text-decoration-color: #00d7ff\">None</span>, <span style=\"color: #00af00; text-decoration-color: #00af00\">128</span>)       │          <span style=\"color: #00af00; text-decoration-color: #00af00\">0</span> │ -                 │\n",
              "│ (<span style=\"color: #0087ff; text-decoration-color: #0087ff\">InputLayer</span>)        │                   │            │                   │\n",
              "├─────────────────────┼───────────────────┼────────────┼───────────────────┤\n",
              "│ attention_mask      │ (<span style=\"color: #00d7ff; text-decoration-color: #00d7ff\">None</span>, <span style=\"color: #00af00; text-decoration-color: #00af00\">128</span>)       │          <span style=\"color: #00af00; text-decoration-color: #00af00\">0</span> │ -                 │\n",
              "│ (<span style=\"color: #0087ff; text-decoration-color: #0087ff\">InputLayer</span>)        │                   │            │                   │\n",
              "├─────────────────────┼───────────────────┼────────────┼───────────────────┤\n",
              "│ lambda_1 (<span style=\"color: #0087ff; text-decoration-color: #0087ff\">Lambda</span>)   │ (<span style=\"color: #00d7ff; text-decoration-color: #00d7ff\">None</span>, <span style=\"color: #00af00; text-decoration-color: #00af00\">768</span>)       │          <span style=\"color: #00af00; text-decoration-color: #00af00\">0</span> │ input_ids[<span style=\"color: #00af00; text-decoration-color: #00af00\">0</span>][<span style=\"color: #00af00; text-decoration-color: #00af00\">0</span>],  │\n",
              "│                     │                   │            │ attention_mask[<span style=\"color: #00af00; text-decoration-color: #00af00\">0</span>… │\n",
              "├─────────────────────┼───────────────────┼────────────┼───────────────────┤\n",
              "│ dense_4 (<span style=\"color: #0087ff; text-decoration-color: #0087ff\">Dense</span>)     │ (<span style=\"color: #00d7ff; text-decoration-color: #00d7ff\">None</span>, <span style=\"color: #00af00; text-decoration-color: #00af00\">256</span>)       │    <span style=\"color: #00af00; text-decoration-color: #00af00\">196,864</span> │ lambda_1[<span style=\"color: #00af00; text-decoration-color: #00af00\">0</span>][<span style=\"color: #00af00; text-decoration-color: #00af00\">0</span>]    │\n",
              "├─────────────────────┼───────────────────┼────────────┼───────────────────┤\n",
              "│ leaky_re_lu_2       │ (<span style=\"color: #00d7ff; text-decoration-color: #00d7ff\">None</span>, <span style=\"color: #00af00; text-decoration-color: #00af00\">256</span>)       │          <span style=\"color: #00af00; text-decoration-color: #00af00\">0</span> │ dense_4[<span style=\"color: #00af00; text-decoration-color: #00af00\">0</span>][<span style=\"color: #00af00; text-decoration-color: #00af00\">0</span>]     │\n",
              "│ (<span style=\"color: #0087ff; text-decoration-color: #0087ff\">LeakyReLU</span>)         │                   │            │                   │\n",
              "├─────────────────────┼───────────────────┼────────────┼───────────────────┤\n",
              "│ batch_normalizatio… │ (<span style=\"color: #00d7ff; text-decoration-color: #00d7ff\">None</span>, <span style=\"color: #00af00; text-decoration-color: #00af00\">256</span>)       │      <span style=\"color: #00af00; text-decoration-color: #00af00\">1,024</span> │ leaky_re_lu_2[<span style=\"color: #00af00; text-decoration-color: #00af00\">0</span>]… │\n",
              "│ (<span style=\"color: #0087ff; text-decoration-color: #0087ff\">BatchNormalizatio…</span> │                   │            │                   │\n",
              "├─────────────────────┼───────────────────┼────────────┼───────────────────┤\n",
              "│ dropout_3 (<span style=\"color: #0087ff; text-decoration-color: #0087ff\">Dropout</span>) │ (<span style=\"color: #00d7ff; text-decoration-color: #00d7ff\">None</span>, <span style=\"color: #00af00; text-decoration-color: #00af00\">256</span>)       │          <span style=\"color: #00af00; text-decoration-color: #00af00\">0</span> │ batch_normalizat… │\n",
              "├─────────────────────┼───────────────────┼────────────┼───────────────────┤\n",
              "│ dense_5 (<span style=\"color: #0087ff; text-decoration-color: #0087ff\">Dense</span>)     │ (<span style=\"color: #00d7ff; text-decoration-color: #00d7ff\">None</span>, <span style=\"color: #00af00; text-decoration-color: #00af00\">128</span>)       │     <span style=\"color: #00af00; text-decoration-color: #00af00\">32,896</span> │ dropout_3[<span style=\"color: #00af00; text-decoration-color: #00af00\">0</span>][<span style=\"color: #00af00; text-decoration-color: #00af00\">0</span>]   │\n",
              "├─────────────────────┼───────────────────┼────────────┼───────────────────┤\n",
              "│ leaky_re_lu_3       │ (<span style=\"color: #00d7ff; text-decoration-color: #00d7ff\">None</span>, <span style=\"color: #00af00; text-decoration-color: #00af00\">128</span>)       │          <span style=\"color: #00af00; text-decoration-color: #00af00\">0</span> │ dense_5[<span style=\"color: #00af00; text-decoration-color: #00af00\">0</span>][<span style=\"color: #00af00; text-decoration-color: #00af00\">0</span>]     │\n",
              "│ (<span style=\"color: #0087ff; text-decoration-color: #0087ff\">LeakyReLU</span>)         │                   │            │                   │\n",
              "├─────────────────────┼───────────────────┼────────────┼───────────────────┤\n",
              "│ batch_normalizatio… │ (<span style=\"color: #00d7ff; text-decoration-color: #00d7ff\">None</span>, <span style=\"color: #00af00; text-decoration-color: #00af00\">128</span>)       │        <span style=\"color: #00af00; text-decoration-color: #00af00\">512</span> │ leaky_re_lu_3[<span style=\"color: #00af00; text-decoration-color: #00af00\">0</span>]… │\n",
              "│ (<span style=\"color: #0087ff; text-decoration-color: #0087ff\">BatchNormalizatio…</span> │                   │            │                   │\n",
              "├─────────────────────┼───────────────────┼────────────┼───────────────────┤\n",
              "│ dropout_4 (<span style=\"color: #0087ff; text-decoration-color: #0087ff\">Dropout</span>) │ (<span style=\"color: #00d7ff; text-decoration-color: #00d7ff\">None</span>, <span style=\"color: #00af00; text-decoration-color: #00af00\">128</span>)       │          <span style=\"color: #00af00; text-decoration-color: #00af00\">0</span> │ batch_normalizat… │\n",
              "├─────────────────────┼───────────────────┼────────────┼───────────────────┤\n",
              "│ dense_6 (<span style=\"color: #0087ff; text-decoration-color: #0087ff\">Dense</span>)     │ (<span style=\"color: #00d7ff; text-decoration-color: #00d7ff\">None</span>, <span style=\"color: #00af00; text-decoration-color: #00af00\">32</span>)        │      <span style=\"color: #00af00; text-decoration-color: #00af00\">4,128</span> │ dropout_4[<span style=\"color: #00af00; text-decoration-color: #00af00\">0</span>][<span style=\"color: #00af00; text-decoration-color: #00af00\">0</span>]   │\n",
              "├─────────────────────┼───────────────────┼────────────┼───────────────────┤\n",
              "│ batch_normalizatio… │ (<span style=\"color: #00d7ff; text-decoration-color: #00d7ff\">None</span>, <span style=\"color: #00af00; text-decoration-color: #00af00\">32</span>)        │        <span style=\"color: #00af00; text-decoration-color: #00af00\">128</span> │ dense_6[<span style=\"color: #00af00; text-decoration-color: #00af00\">0</span>][<span style=\"color: #00af00; text-decoration-color: #00af00\">0</span>]     │\n",
              "│ (<span style=\"color: #0087ff; text-decoration-color: #0087ff\">BatchNormalizatio…</span> │                   │            │                   │\n",
              "├─────────────────────┼───────────────────┼────────────┼───────────────────┤\n",
              "│ dropout_5 (<span style=\"color: #0087ff; text-decoration-color: #0087ff\">Dropout</span>) │ (<span style=\"color: #00d7ff; text-decoration-color: #00d7ff\">None</span>, <span style=\"color: #00af00; text-decoration-color: #00af00\">32</span>)        │          <span style=\"color: #00af00; text-decoration-color: #00af00\">0</span> │ batch_normalizat… │\n",
              "├─────────────────────┼───────────────────┼────────────┼───────────────────┤\n",
              "│ dense_7 (<span style=\"color: #0087ff; text-decoration-color: #0087ff\">Dense</span>)     │ (<span style=\"color: #00d7ff; text-decoration-color: #00d7ff\">None</span>, <span style=\"color: #00af00; text-decoration-color: #00af00\">3</span>)         │         <span style=\"color: #00af00; text-decoration-color: #00af00\">99</span> │ dropout_5[<span style=\"color: #00af00; text-decoration-color: #00af00\">0</span>][<span style=\"color: #00af00; text-decoration-color: #00af00\">0</span>]   │\n",
              "└─────────────────────┴───────────────────┴────────────┴───────────────────┘\n",
              "</pre>\n"
            ]
          },
          "metadata": {}
        },
        {
          "output_type": "display_data",
          "data": {
            "text/plain": [
              "\u001b[1m Total params: \u001b[0m\u001b[38;5;34m235,651\u001b[0m (920.51 KB)\n"
            ],
            "text/html": [
              "<pre style=\"white-space:pre;overflow-x:auto;line-height:normal;font-family:Menlo,'DejaVu Sans Mono',consolas,'Courier New',monospace\"><span style=\"font-weight: bold\"> Total params: </span><span style=\"color: #00af00; text-decoration-color: #00af00\">235,651</span> (920.51 KB)\n",
              "</pre>\n"
            ]
          },
          "metadata": {}
        },
        {
          "output_type": "display_data",
          "data": {
            "text/plain": [
              "\u001b[1m Trainable params: \u001b[0m\u001b[38;5;34m234,819\u001b[0m (917.26 KB)\n"
            ],
            "text/html": [
              "<pre style=\"white-space:pre;overflow-x:auto;line-height:normal;font-family:Menlo,'DejaVu Sans Mono',consolas,'Courier New',monospace\"><span style=\"font-weight: bold\"> Trainable params: </span><span style=\"color: #00af00; text-decoration-color: #00af00\">234,819</span> (917.26 KB)\n",
              "</pre>\n"
            ]
          },
          "metadata": {}
        },
        {
          "output_type": "display_data",
          "data": {
            "text/plain": [
              "\u001b[1m Non-trainable params: \u001b[0m\u001b[38;5;34m832\u001b[0m (3.25 KB)\n"
            ],
            "text/html": [
              "<pre style=\"white-space:pre;overflow-x:auto;line-height:normal;font-family:Menlo,'DejaVu Sans Mono',consolas,'Courier New',monospace\"><span style=\"font-weight: bold\"> Non-trainable params: </span><span style=\"color: #00af00; text-decoration-color: #00af00\">832</span> (3.25 KB)\n",
              "</pre>\n"
            ]
          },
          "metadata": {}
        }
      ]
    },
    {
      "cell_type": "markdown",
      "source": [
        "***Here i built the full model architecture by combining a frozen DistilBERT base with a custom classification head, which is pretty similar to what we did back in Week 5 when we froze VGG16 for image classification and just trained the dense layers we added on top.***\n",
        "\n",
        "***I used TFDistilBertModel to extract features from the tweets, but I didn’t use the final output token predictions from the original model (jus\n",
        "t like how we dropped VGG16’s top layer). I used a Lambda layer to grab the [CLS] token representation—the summary of each tweet—and passed that through my own head: a Dense → BatchNorm → Dropout → Softmax setup. Same structure as Week 5, just applied to text instead of images.***\n",
        "\n",
        "***Freezing the base (base.trainable = False) is the same idea we did before: it lets us train faster and avoid messing up the pretrained knowledge, while still letting the new head learn task-specific features.***"
      ],
      "metadata": {
        "id": "w5gz5ByU00lw"
      }
    },
    {
      "cell_type": "code",
      "source": [
        "# define a callback to stop if validation accuracy gets high\n",
        "class mycallback(tf.keras.callbacks.Callback):\n",
        "    def on_epoch_end(self, epoch, logs=None):\n",
        "        if logs.get(\"val_accuracy\", 0) >= 0.92: # this target might need adjustment\n",
        "            print(f\"\\nval_acc hit {logs['val_accuracy']:.2f}, stopping training!\")\n",
        "            self.model.stop_training = True\n",
        "\n",
        "history = model.fit(\n",
        "    train_dataset,                  # our shuffled/batched train data\n",
        "    validation_data=val_dataset,    # the hold‑out set\n",
        "    epochs=15,                      # max epochs\n",
        "    callbacks=[mycallback()],       # attaching custom stopper\n",
        "    verbose=1,                      # show loss & accuracy each epoch\n",
        "    class_weight=class_weights_dict # this tells the model to pay more attention to minority classes (in this case its hatespeech mostly)\n",
        ")"
      ],
      "metadata": {
        "colab": {
          "base_uri": "https://localhost:8080/"
        },
        "id": "CgiOMgp61Tcf",
        "outputId": "1cd7ae3c-ae3a-4a13-96c1-862617d55bf4"
      },
      "execution_count": null,
      "outputs": [
        {
          "output_type": "stream",
          "name": "stdout",
          "text": [
            "Epoch 1/15\n",
            "\u001b[1m1240/1240\u001b[0m \u001b[32m━━━━━━━━━━━━━━━━━━━━\u001b[0m\u001b[37m\u001b[0m \u001b[1m105s\u001b[0m 74ms/step - accuracy: 0.4236 - loss: 1.4634 - val_accuracy: 0.6454 - val_loss: 0.9268\n",
            "Epoch 2/15\n",
            "\u001b[1m1240/1240\u001b[0m \u001b[32m━━━━━━━━━━━━━━━━━━━━\u001b[0m\u001b[37m\u001b[0m \u001b[1m127s\u001b[0m 66ms/step - accuracy: 0.5067 - loss: 1.1659 - val_accuracy: 0.6480 - val_loss: 0.9578\n",
            "Epoch 3/15\n",
            "\u001b[1m1240/1240\u001b[0m \u001b[32m━━━━━━━━━━━━━━━━━━━━\u001b[0m\u001b[37m\u001b[0m \u001b[1m142s\u001b[0m 66ms/step - accuracy: 0.5388 - loss: 1.0965 - val_accuracy: 0.7043 - val_loss: 0.8224\n",
            "Epoch 4/15\n",
            "\u001b[1m1240/1240\u001b[0m \u001b[32m━━━━━━━━━━━━━━━━━━━━\u001b[0m\u001b[37m\u001b[0m \u001b[1m146s\u001b[0m 70ms/step - accuracy: 0.5667 - loss: 1.0026 - val_accuracy: 0.7051 - val_loss: 0.8131\n",
            "Epoch 5/15\n",
            "\u001b[1m1240/1240\u001b[0m \u001b[32m━━━━━━━━━━━━━━━━━━━━\u001b[0m\u001b[37m\u001b[0m \u001b[1m138s\u001b[0m 67ms/step - accuracy: 0.5817 - loss: 0.9948 - val_accuracy: 0.6940 - val_loss: 0.8264\n",
            "Epoch 6/15\n",
            "\u001b[1m1240/1240\u001b[0m \u001b[32m━━━━━━━━━━━━━━━━━━━━\u001b[0m\u001b[37m\u001b[0m \u001b[1m142s\u001b[0m 67ms/step - accuracy: 0.5921 - loss: 0.9631 - val_accuracy: 0.7111 - val_loss: 0.7893\n",
            "Epoch 7/15\n",
            "\u001b[1m1240/1240\u001b[0m \u001b[32m━━━━━━━━━━━━━━━━━━━━\u001b[0m\u001b[37m\u001b[0m \u001b[1m142s\u001b[0m 67ms/step - accuracy: 0.6009 - loss: 0.9431 - val_accuracy: 0.7252 - val_loss: 0.7725\n",
            "Epoch 8/15\n",
            "\u001b[1m1240/1240\u001b[0m \u001b[32m━━━━━━━━━━━━━━━━━━━━\u001b[0m\u001b[37m\u001b[0m \u001b[1m142s\u001b[0m 67ms/step - accuracy: 0.6197 - loss: 0.9019 - val_accuracy: 0.7049 - val_loss: 0.8177\n",
            "Epoch 9/15\n",
            "\u001b[1m1240/1240\u001b[0m \u001b[32m━━━━━━━━━━━━━━━━━━━━\u001b[0m\u001b[37m\u001b[0m \u001b[1m142s\u001b[0m 67ms/step - accuracy: 0.6247 - loss: 0.8790 - val_accuracy: 0.7351 - val_loss: 0.7408\n",
            "Epoch 10/15\n",
            "\u001b[1m1240/1240\u001b[0m \u001b[32m━━━━━━━━━━━━━━━━━━━━\u001b[0m\u001b[37m\u001b[0m \u001b[1m147s\u001b[0m 70ms/step - accuracy: 0.6309 - loss: 0.8578 - val_accuracy: 0.7176 - val_loss: 0.7786\n",
            "Epoch 11/15\n",
            "\u001b[1m1240/1240\u001b[0m \u001b[32m━━━━━━━━━━━━━━━━━━━━\u001b[0m\u001b[37m\u001b[0m \u001b[1m138s\u001b[0m 67ms/step - accuracy: 0.6455 - loss: 0.8275 - val_accuracy: 0.7331 - val_loss: 0.7387\n",
            "Epoch 12/15\n",
            "\u001b[1m1240/1240\u001b[0m \u001b[32m━━━━━━━━━━━━━━━━━━━━\u001b[0m\u001b[37m\u001b[0m \u001b[1m141s\u001b[0m 67ms/step - accuracy: 0.6411 - loss: 0.8530 - val_accuracy: 0.7273 - val_loss: 0.7253\n",
            "Epoch 13/15\n",
            "\u001b[1m1240/1240\u001b[0m \u001b[32m━━━━━━━━━━━━━━━━━━━━\u001b[0m\u001b[37m\u001b[0m \u001b[1m142s\u001b[0m 67ms/step - accuracy: 0.6506 - loss: 0.8197 - val_accuracy: 0.7293 - val_loss: 0.7430\n",
            "Epoch 14/15\n",
            "\u001b[1m1240/1240\u001b[0m \u001b[32m━━━━━━━━━━━━━━━━━━━━\u001b[0m\u001b[37m\u001b[0m \u001b[1m142s\u001b[0m 67ms/step - accuracy: 0.6549 - loss: 0.8145 - val_accuracy: 0.7162 - val_loss: 0.7535\n",
            "Epoch 15/15\n",
            "\u001b[1m1240/1240\u001b[0m \u001b[32m━━━━━━━━━━━━━━━━━━━━\u001b[0m\u001b[37m\u001b[0m \u001b[1m142s\u001b[0m 66ms/step - accuracy: 0.6631 - loss: 0.8081 - val_accuracy: 0.7402 - val_loss: 0.7207\n"
          ]
        }
      ]
    },
    {
      "cell_type": "markdown",
      "source": [
        "***After multiple test sessions of training, I found that anything over 15 epochs does not improve the model at all, it continues to hover around the same val_accuracy and then slowly starts decreasing, so this was the ideal number for the model setup that I created in the prior codeblock***"
      ],
      "metadata": {
        "id": "8kH0pl0zIkWM"
      }
    },
    {
      "cell_type": "code",
      "source": [
        "import numpy as np\n",
        "\n",
        "# some example texts to test\n",
        "test_texts = [\n",
        "    \"I'm going to the beach\",\n",
        "    \"I hate you so much, you are a piece of crap!\",\n",
        "    \"That dude is such a bitch.\",\n",
        "    \"What a lovely day!\",\n",
        "    \"Kill all the immigrants.\", # Example of potential hate speech\n",
        "    \"She's acting like a complete idiot.\" # Example of potential offensive language\n",
        "]\n",
        "\n",
        "# Tokenize the test texts using the same tokenizer and settings\n",
        "test_encodings = tokenizer(\n",
        "    test_texts,\n",
        "    truncation=True,\n",
        "    padding='max_length', # Use the same padding strategy\n",
        "    max_length=128,       # Use the same max_length\n",
        "    return_tensors=\"tf\"   # Return TensorFlow tensors directly\n",
        ")\n",
        "\n",
        "# make predictions\n",
        "# the model expects a dictionary-like input for its two inputs\n",
        "predictions_output = model.predict({\n",
        "    'input_ids': test_encodings['input_ids'],\n",
        "    'attention_mask': test_encodings['attention_mask']\n",
        "    })\n",
        "\n",
        "\n",
        "# Get the predicted class index (0, 1, or 2) for each text\n",
        "predicted_label_indices = np.argmax(predictions_output, axis=1)\n",
        "\n",
        "# map labels to human-readable names\n",
        "# so, 0: Hate Speech, 1: Offensive Language, 2: Neither\n",
        "label_map = {0: \"Hate Speech\", 1: \"Offensive Language\", 2: \"Neither\"}\n",
        "\n",
        "print(\"\\n--- Test Results ---\\n\")\n",
        "for text, label_index, prediction_probs in zip(test_texts, predicted_label_indices, predictions_output):\n",
        "    predicted_class_name = label_map.get(label_index, \"Unknown Label\")\n",
        "    print(f\"Text: \\\"{text}\\\"\")\n",
        "    print(f\"Predicted Class: {predicted_class_name} (Label: {label_index})\")\n",
        "    print(\"-\" * 30)"
      ],
      "metadata": {
        "colab": {
          "base_uri": "https://localhost:8080/"
        },
        "id": "GXwu3UAqMBMX",
        "outputId": "2de8b10e-c1c8-4ad1-819c-718e07a5240a"
      },
      "execution_count": null,
      "outputs": [
        {
          "output_type": "stream",
          "name": "stdout",
          "text": [
            "\u001b[1m1/1\u001b[0m \u001b[32m━━━━━━━━━━━━━━━━━━━━\u001b[0m\u001b[37m\u001b[0m \u001b[1m2s\u001b[0m 2s/step\n",
            "\n",
            "--- Test Results ---\n",
            "\n",
            "Text: \"I'm going to the beach\"\n",
            "Predicted Class: Neither (Label: 2)\n",
            "------------------------------\n",
            "Text: \"I hate you so much, you are a piece of crap!\"\n",
            "Predicted Class: Offensive Language (Label: 1)\n",
            "------------------------------\n",
            "Text: \"That dude is such a bitch.\"\n",
            "Predicted Class: Offensive Language (Label: 1)\n",
            "------------------------------\n",
            "Text: \"What a lovely day!\"\n",
            "Predicted Class: Neither (Label: 2)\n",
            "------------------------------\n",
            "Text: \"Kill all the immigrants.\"\n",
            "Predicted Class: Hate Speech (Label: 0)\n",
            "------------------------------\n",
            "Text: \"She's acting like a complete idiot.\"\n",
            "Predicted Class: Offensive Language (Label: 1)\n",
            "------------------------------\n"
          ]
        }
      ]
    },
    {
      "cell_type": "markdown",
      "source": [
        "***Tested the model on some real world examples and got accurate predictions for all 6 sample tweets. The model has an overall 74% accuracy so we would expect it to correctly predict 3 out of every 4 typically***"
      ],
      "metadata": {
        "id": "n4TiXicPJbgc"
      }
    },
    {
      "cell_type": "code",
      "source": [
        "from sklearn.metrics import classification_report, confusion_matrix\n",
        "import numpy as np\n",
        "import seaborn as sns\n",
        "import matplotlib.pyplot as plt\n",
        "\n",
        "print(\"\\n--- Detailed Validation Set Evaluation ---\\n\")\n",
        "\n",
        "# Get predictions for the entire validation dataset\n",
        "val_predictions_probabilities = model.predict(val_dataset)\n",
        "# Convert probabilities to predicted class indices\n",
        "val_predicted_labels = np.argmax(val_predictions_probabilities, axis=1)\n",
        "\n",
        "# We need the true labels from the validation dataset\n",
        "# We can extract them by iterating through the dataset\n",
        "true_val_labels_list = []\n",
        "for _, labels_batch in val_dataset:\n",
        "    true_val_labels_list.extend(labels_batch.numpy())\n",
        "true_val_labels_array = np.array(true_val_labels_list)\n",
        "\n",
        "# Ensure we have the correct number of labels (handle potential partial last batch)\n",
        "val_predicted_labels = val_predicted_labels[:len(true_val_labels_array)]\n",
        "\n",
        "# Original dataset mapping: 0: hate_speech, 1: offensive_language, 2: neither\n",
        "class_names = [label_map[i] for i in sorted(label_map.keys())]\n",
        "\n",
        "# 1. Classification Report (Precision, Recall, F1-score per class)\n",
        "print(\"\\nClassification Report:\\n\")\n",
        "print(classification_report(true_val_labels_array, val_predicted_labels, target_names=class_names, digits=3)) # Added digits for more precision\n",
        "\n",
        "# 2. Confusion Matrix\n",
        "print(\"\\nConfusion Matrix:\\n\")\n",
        "cm = confusion_matrix(true_val_labels_array, val_predicted_labels)\n",
        "print(cm)\n",
        "\n",
        "# Optional: Plot Confusion Matrix\n",
        "plt.figure(figsize=(8, 6))\n",
        "sns.heatmap(cm, annot=True, fmt='d', cmap='Blues', xticklabels=class_names, yticklabels=class_names)\n",
        "plt.xlabel('Predicted Label')\n",
        "plt.ylabel('True Label')\n",
        "plt.title('Confusion Matrix for Validation Set')\n",
        "plt.show()"
      ],
      "metadata": {
        "colab": {
          "base_uri": "https://localhost:8080/",
          "height": 963
        },
        "id": "yD15P_FpOEXW",
        "outputId": "116fe876-fa30-477c-c269-00d0529b6a73"
      },
      "execution_count": null,
      "outputs": [
        {
          "output_type": "stream",
          "name": "stdout",
          "text": [
            "\n",
            "--- Detailed Validation Set Evaluation ---\n",
            "\n",
            "\u001b[1m310/310\u001b[0m \u001b[32m━━━━━━━━━━━━━━━━━━━━\u001b[0m\u001b[37m\u001b[0m \u001b[1m20s\u001b[0m 63ms/step\n",
            "\n",
            "Classification Report:\n",
            "\n",
            "                    precision    recall  f1-score   support\n",
            "\n",
            "       Hate Speech      0.197     0.594     0.296       286\n",
            "Offensive Language      0.955     0.739     0.833      3838\n",
            "           Neither      0.589     0.795     0.677       833\n",
            "\n",
            "          accuracy                          0.740      4957\n",
            "         macro avg      0.580     0.709     0.602      4957\n",
            "      weighted avg      0.849     0.740     0.776      4957\n",
            "\n",
            "\n",
            "Confusion Matrix:\n",
            "\n",
            "[[ 170   76   40]\n",
            " [ 579 2837  422]\n",
            " [ 112   59  662]]\n"
          ]
        },
        {
          "output_type": "display_data",
          "data": {
            "text/plain": [
              "<Figure size 800x600 with 2 Axes>"
            ],
            "image/png": "[encoded data removed]"
          },
          "metadata": {}
        }
      ]
    },
    {
      "cell_type": "markdown",
      "source": [
        "***Note: Analysis of the evaluation metrics are in the report***"
      ],
      "metadata": {
        "id": "FIoWn7M5Juk_"
      }
    }
  ]
}